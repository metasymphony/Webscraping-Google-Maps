{
 "cells": [
  {
   "cell_type": "code",
   "execution_count": 1,
   "metadata": {},
   "outputs": [
    {
     "data": {
      "application/javascript": [
       "IPython.notebook.set_autosave_interval(10000)"
      ]
     },
     "metadata": {},
     "output_type": "display_data"
    },
    {
     "name": "stdout",
     "output_type": "stream",
     "text": [
      "Autosaving every 10 seconds\n"
     ]
    }
   ],
   "source": [
    "from selenium.webdriver.common.action_chains import ActionChains\n",
    "from selenium.webdriver.common.keys import Keys\n",
    "from selenium import webdriver\n",
    "from time import sleep\n",
    "import re\n",
    "\n",
    "%autosave 10"
   ]
  },
  {
   "cell_type": "code",
   "execution_count": 2,
   "metadata": {
    "collapsed": true
   },
   "outputs": [],
   "source": [
    "def start(sleep_time=2):\n",
    "    driver = webdriver.Chrome(executable_path=\"./chromedriver\")\n",
    "    driver.get(\"https://www.google.com.au/maps/place/Town+Hall+Station/@-33.8735656,151.2048898,17z/data=!3m1!4b1!4m5!3m4!1s0x6b12ae3c2965d745:0x61fd9a8d0c7d88c!8m2!3d-33.8735656!4d151.2070838\")\n",
    "    sleep(sleep_time)\n",
    "    driver.find_element_by_css_selector('button.section-reviewchart-numreviews').click()\n",
    "    sleep(sleep_time)\n",
    "    return driver"
   ]
  },
  {
   "cell_type": "code",
   "execution_count": 3,
   "metadata": {
    "collapsed": true
   },
   "outputs": [],
   "source": [
    "def reveal_all(driver):\n",
    "    rev_num = driver.find_element_by_css_selector('div.section-reviewchart-numreviews').text\n",
    "    match = re.findall(r'[0-9]+',rev_num)[0]\n",
    "    match = int(int(match) / 10)\n",
    "    for i in range(match):\n",
    "        elem = driver.find_element_by_css_selector('div.section-loading.noprint')\n",
    "        action_chains = ActionChains(driver)\n",
    "        action_chains.move_to_element(elem).perform()\n",
    "        sleep(2)"
   ]
  },
  {
   "cell_type": "code",
   "execution_count": 4,
   "metadata": {
    "collapsed": true
   },
   "outputs": [],
   "source": [
    "def reveal_detail(driver):\n",
    "    elements = driver.find_elements_by_css_selector('span')\n",
    "    for elm in elements:\n",
    "        if elm.text == 'More':\n",
    "            sleep(2)\n",
    "            elm.click()\n",
    "            "
   ]
  },
  {
   "cell_type": "code",
   "execution_count": 5,
   "metadata": {
    "collapsed": true
   },
   "outputs": [],
   "source": [
    "def make_dict():\n",
    "    driver.find_elements"
   ]
  },
  {
   "cell_type": "code",
   "execution_count": 6,
   "metadata": {},
   "outputs": [],
   "source": [
    "# elements = dvr.find_elements_by_css_selector('span.section-review-star.section-review-star-active')\n",
    "# for e in elements:\n",
    "#     print(e.text)\n"
   ]
  },
  {
   "cell_type": "code",
   "execution_count": 7,
   "metadata": {
    "collapsed": true
   },
   "outputs": [],
   "source": [
    "dvr = start()\n",
    "reveal_all(dvr)\n",
    "reveal_detail(dvr)"
   ]
  },
  {
   "cell_type": "code",
   "execution_count": 8,
   "metadata": {
    "collapsed": true
   },
   "outputs": [],
   "source": [
    "#dvr.close()"
   ]
  }
 ],
 "metadata": {
  "kernelspec": {
   "display_name": "Python 3",
   "language": "python",
   "name": "python3"
  },
  "language_info": {
   "codemirror_mode": {
    "name": "ipython",
    "version": 3
   },
   "file_extension": ".py",
   "mimetype": "text/x-python",
   "name": "python",
   "nbconvert_exporter": "python",
   "pygments_lexer": "ipython3",
   "version": "3.6.3"
  },
  "varInspector": {
   "cols": {
    "lenName": 16,
    "lenType": 16,
    "lenVar": 40
   },
   "kernels_config": {
    "python": {
     "delete_cmd_postfix": "",
     "delete_cmd_prefix": "del ",
     "library": "var_list.py",
     "varRefreshCmd": "print(var_dic_list())"
    },
    "r": {
     "delete_cmd_postfix": ") ",
     "delete_cmd_prefix": "rm(",
     "library": "var_list.r",
     "varRefreshCmd": "cat(var_dic_list()) "
    }
   },
   "types_to_exclude": [
    "module",
    "function",
    "builtin_function_or_method",
    "instance",
    "_Feature"
   ],
   "window_display": false
  }
 },
 "nbformat": 4,
 "nbformat_minor": 2
}
